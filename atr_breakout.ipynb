{
 "cells": [
  {
   "cell_type": "markdown",
   "metadata": {},
   "source": [
    "### 1 - Import test data"
   ]
  },
  {
   "cell_type": "code",
   "execution_count": 1,
   "metadata": {},
   "outputs": [
    {
     "data": {
      "text/plain": [
       "43446"
      ]
     },
     "execution_count": 1,
     "metadata": {},
     "output_type": "execute_result"
    }
   ],
   "source": [
    "import pandas as pd\n",
    "df=pd.read_csv(\"BTCTUSD_1h.csv\")\n",
    "df\n",
    "df = df.iloc[:, :6]\n",
    "\n",
    "df.columns = ['Gmt time',  'Open', 'High', 'Low', 'Close','Volume']\n",
    "df\n",
    "df[\"Gmt time\"]=df[\"Gmt time\"].str.replace(\".000\",\"\")\n",
    "df['Gmt time']=pd.to_datetime(df['Gmt time'])\n",
    "df.set_index(\"Gmt time\", inplace=True)\n",
    "df=df[df.High!=df.Low]\n",
    "len(df)"
   ]
  },
  {
   "cell_type": "code",
   "execution_count": 2,
   "metadata": {},
   "outputs": [
    {
     "name": "stderr",
     "output_type": "stream",
     "text": [
      "C:\\Users\\vnarz\\AppData\\Local\\Temp\\ipykernel_25752\\1934131328.py:37: UserWarning: Some prices are larger than initial cash value. Note that fractional trading is not supported. If you want to trade Bitcoin, increase initial cash, or trade μBTC or satoshis instead (GH-134).\n",
      "  bt = Backtest(df, BreakoutStrategy, cash=10000, commission=.002)\n"
     ]
    },
    {
     "ename": "RuntimeError",
     "evalue": "Indicator \"ATR(H,L,C,24)\" errored with exception: '_Array' object has no attribute 'rolling'",
     "output_type": "error",
     "traceback": [
      "\u001b[1;31m---------------------------------------------------------------------------\u001b[0m",
      "\u001b[1;31mAttributeError\u001b[0m                            Traceback (most recent call last)",
      "File \u001b[1;32m~\\AppData\\Local\\Packages\\PythonSoftwareFoundation.Python.3.12_qbz5n2kfra8p0\\LocalCache\\local-packages\\Python312\\site-packages\\backtesting\\backtesting.py:127\u001b[0m, in \u001b[0;36mStrategy.I\u001b[1;34m(self, func, name, plot, overlay, color, scatter, *args, **kwargs)\u001b[0m\n\u001b[0;32m    126\u001b[0m \u001b[38;5;28;01mtry\u001b[39;00m:\n\u001b[1;32m--> 127\u001b[0m     value \u001b[38;5;241m=\u001b[39m \u001b[43mfunc\u001b[49m\u001b[43m(\u001b[49m\u001b[38;5;241;43m*\u001b[39;49m\u001b[43margs\u001b[49m\u001b[43m,\u001b[49m\u001b[43m \u001b[49m\u001b[38;5;241;43m*\u001b[39;49m\u001b[38;5;241;43m*\u001b[39;49m\u001b[43mkwargs\u001b[49m\u001b[43m)\u001b[49m\n\u001b[0;32m    128\u001b[0m \u001b[38;5;28;01mexcept\u001b[39;00m \u001b[38;5;167;01mException\u001b[39;00m \u001b[38;5;28;01mas\u001b[39;00m e:\n",
      "Cell \u001b[1;32mIn[2], line 35\u001b[0m, in \u001b[0;36mATR\u001b[1;34m(high, low, close, n)\u001b[0m\n\u001b[0;32m     34\u001b[0m \u001b[38;5;28;01mdef\u001b[39;00m \u001b[38;5;21mATR\u001b[39m(high, low, close, n):\n\u001b[1;32m---> 35\u001b[0m     \u001b[38;5;28;01mreturn\u001b[39;00m pd\u001b[38;5;241m.\u001b[39mSeries(\u001b[43m(\u001b[49m\u001b[43mhigh\u001b[49m\u001b[43m \u001b[49m\u001b[38;5;241;43m-\u001b[39;49m\u001b[43m \u001b[49m\u001b[43mlow\u001b[49m\u001b[43m)\u001b[49m\u001b[38;5;241;43m.\u001b[39;49m\u001b[43mrolling\u001b[49m(window\u001b[38;5;241m=\u001b[39mn, min_periods\u001b[38;5;241m=\u001b[39m\u001b[38;5;241m1\u001b[39m)\u001b[38;5;241m.\u001b[39mmean())\n",
      "\u001b[1;31mAttributeError\u001b[0m: '_Array' object has no attribute 'rolling'",
      "\nDuring handling of the above exception, another exception occurred:\n",
      "\u001b[1;31mRuntimeError\u001b[0m                              Traceback (most recent call last)",
      "Cell \u001b[1;32mIn[2], line 38\u001b[0m\n\u001b[0;32m     35\u001b[0m     \u001b[38;5;28;01mreturn\u001b[39;00m pd\u001b[38;5;241m.\u001b[39mSeries((high \u001b[38;5;241m-\u001b[39m low)\u001b[38;5;241m.\u001b[39mrolling(window\u001b[38;5;241m=\u001b[39mn, min_periods\u001b[38;5;241m=\u001b[39m\u001b[38;5;241m1\u001b[39m)\u001b[38;5;241m.\u001b[39mmean())\n\u001b[0;32m     37\u001b[0m bt \u001b[38;5;241m=\u001b[39m Backtest(df, BreakoutStrategy, cash\u001b[38;5;241m=\u001b[39m\u001b[38;5;241m10000\u001b[39m, commission\u001b[38;5;241m=\u001b[39m\u001b[38;5;241m.002\u001b[39m)\n\u001b[1;32m---> 38\u001b[0m stats \u001b[38;5;241m=\u001b[39m \u001b[43mbt\u001b[49m\u001b[38;5;241;43m.\u001b[39;49m\u001b[43mrun\u001b[49m\u001b[43m(\u001b[49m\u001b[43m)\u001b[49m\n\u001b[0;32m     39\u001b[0m \u001b[38;5;28mprint\u001b[39m(stats)\n",
      "File \u001b[1;32m~\\AppData\\Local\\Packages\\PythonSoftwareFoundation.Python.3.12_qbz5n2kfra8p0\\LocalCache\\local-packages\\Python312\\site-packages\\backtesting\\backtesting.py:1139\u001b[0m, in \u001b[0;36mBacktest.run\u001b[1;34m(self, **kwargs)\u001b[0m\n\u001b[0;32m   1136\u001b[0m broker: _Broker \u001b[38;5;241m=\u001b[39m \u001b[38;5;28mself\u001b[39m\u001b[38;5;241m.\u001b[39m_broker(data\u001b[38;5;241m=\u001b[39mdata)\n\u001b[0;32m   1137\u001b[0m strategy: Strategy \u001b[38;5;241m=\u001b[39m \u001b[38;5;28mself\u001b[39m\u001b[38;5;241m.\u001b[39m_strategy(broker, data, kwargs)\n\u001b[1;32m-> 1139\u001b[0m \u001b[43mstrategy\u001b[49m\u001b[38;5;241;43m.\u001b[39;49m\u001b[43minit\u001b[49m\u001b[43m(\u001b[49m\u001b[43m)\u001b[49m\n\u001b[0;32m   1140\u001b[0m data\u001b[38;5;241m.\u001b[39m_update()  \u001b[38;5;66;03m# Strategy.init might have changed/added to data.df\u001b[39;00m\n\u001b[0;32m   1142\u001b[0m \u001b[38;5;66;03m# Indicators used in Strategy.next()\u001b[39;00m\n",
      "Cell \u001b[1;32mIn[2], line 16\u001b[0m, in \u001b[0;36mBreakoutStrategy.init\u001b[1;34m(self)\u001b[0m\n\u001b[0;32m     14\u001b[0m \u001b[38;5;28;01mdef\u001b[39;00m \u001b[38;5;21minit\u001b[39m(\u001b[38;5;28mself\u001b[39m):\n\u001b[0;32m     15\u001b[0m     \u001b[38;5;28msuper\u001b[39m()\u001b[38;5;241m.\u001b[39minit()\n\u001b[1;32m---> 16\u001b[0m     \u001b[38;5;28mself\u001b[39m\u001b[38;5;241m.\u001b[39matr \u001b[38;5;241m=\u001b[39m \u001b[38;5;28;43mself\u001b[39;49m\u001b[38;5;241;43m.\u001b[39;49m\u001b[43mI\u001b[49m\u001b[43m(\u001b[49m\u001b[43mATR\u001b[49m\u001b[43m,\u001b[49m\u001b[43m \u001b[49m\u001b[38;5;28;43mself\u001b[39;49m\u001b[38;5;241;43m.\u001b[39;49m\u001b[43mdata\u001b[49m\u001b[38;5;241;43m.\u001b[39;49m\u001b[43mHigh\u001b[49m\u001b[43m,\u001b[49m\u001b[43m \u001b[49m\u001b[38;5;28;43mself\u001b[39;49m\u001b[38;5;241;43m.\u001b[39;49m\u001b[43mdata\u001b[49m\u001b[38;5;241;43m.\u001b[39;49m\u001b[43mLow\u001b[49m\u001b[43m,\u001b[49m\u001b[43m \u001b[49m\u001b[38;5;28;43mself\u001b[39;49m\u001b[38;5;241;43m.\u001b[39;49m\u001b[43mdata\u001b[49m\u001b[38;5;241;43m.\u001b[39;49m\u001b[43mClose\u001b[49m\u001b[43m,\u001b[49m\u001b[43m \u001b[49m\u001b[38;5;28;43mself\u001b[39;49m\u001b[38;5;241;43m.\u001b[39;49m\u001b[43matrPeriod\u001b[49m\u001b[43m)\u001b[49m\n",
      "File \u001b[1;32m~\\AppData\\Local\\Packages\\PythonSoftwareFoundation.Python.3.12_qbz5n2kfra8p0\\LocalCache\\local-packages\\Python312\\site-packages\\backtesting\\backtesting.py:129\u001b[0m, in \u001b[0;36mStrategy.I\u001b[1;34m(self, func, name, plot, overlay, color, scatter, *args, **kwargs)\u001b[0m\n\u001b[0;32m    127\u001b[0m     value \u001b[38;5;241m=\u001b[39m func(\u001b[38;5;241m*\u001b[39margs, \u001b[38;5;241m*\u001b[39m\u001b[38;5;241m*\u001b[39mkwargs)\n\u001b[0;32m    128\u001b[0m \u001b[38;5;28;01mexcept\u001b[39;00m \u001b[38;5;167;01mException\u001b[39;00m \u001b[38;5;28;01mas\u001b[39;00m e:\n\u001b[1;32m--> 129\u001b[0m     \u001b[38;5;28;01mraise\u001b[39;00m \u001b[38;5;167;01mRuntimeError\u001b[39;00m(\u001b[38;5;124mf\u001b[39m\u001b[38;5;124m'\u001b[39m\u001b[38;5;124mIndicator \u001b[39m\u001b[38;5;124m\"\u001b[39m\u001b[38;5;132;01m{\u001b[39;00mname\u001b[38;5;132;01m}\u001b[39;00m\u001b[38;5;124m\"\u001b[39m\u001b[38;5;124m errored with exception: \u001b[39m\u001b[38;5;132;01m{\u001b[39;00me\u001b[38;5;132;01m}\u001b[39;00m\u001b[38;5;124m'\u001b[39m)\n\u001b[0;32m    131\u001b[0m \u001b[38;5;28;01mif\u001b[39;00m \u001b[38;5;28misinstance\u001b[39m(value, pd\u001b[38;5;241m.\u001b[39mDataFrame):\n\u001b[0;32m    132\u001b[0m     value \u001b[38;5;241m=\u001b[39m value\u001b[38;5;241m.\u001b[39mvalues\u001b[38;5;241m.\u001b[39mT\n",
      "\u001b[1;31mRuntimeError\u001b[0m: Indicator \"ATR(H,L,C,24)\" errored with exception: '_Array' object has no attribute 'rolling'"
     ]
    }
   ],
   "source": [
    "import pandas as pd\n",
    "from backtesting import Backtest, Strategy\n",
    "from backtesting.lib import crossover\n",
    "\n",
    "class BreakoutStrategy(Strategy):\n",
    "    atrPeriod = 24\n",
    "    atrMultiplier = 1\n",
    "    longTrade = True\n",
    "    shortTrade = True\n",
    "    InpRisk = 1.0\n",
    "    startHour = 1\n",
    "    endHour = 23\n",
    "    \n",
    "    def init(self):\n",
    "        super().init()\n",
    "        self.atr = self.I(ATR, self.data.High, self.data.Low, self.data.Close, self.atrPeriod)\n",
    "        \n",
    "    def next(self):\n",
    "        if not self.startHour <= self.data.index.hour <= self.endHour:\n",
    "            return\n",
    "        \n",
    "        atrValue = self.atr[-1] * self.atrMultiplier\n",
    "        upperLevel = self.data.High[-2] + atrValue\n",
    "        lowerLevel = self.data.Low[-2] - atrValue\n",
    "        \n",
    "        price = (self.data.Close[-1] + self.data.Open[-1]) / 2\n",
    "        stopDistance = abs(upperLevel - lowerLevel)\n",
    "        \n",
    "        if self.longTrade and price > upperLevel:\n",
    "            self.buy(sl=lowerLevel)\n",
    "        elif self.shortTrade and price < lowerLevel:\n",
    "            self.sell(sl=upperLevel)\n",
    "\n",
    "def ATR(high, low, close, n):\n",
    "    return pd.Series((high - low).rolling(window=n, min_periods=1).mean())\n",
    "\n",
    "bt = Backtest(df, BreakoutStrategy, cash=10000, commission=.002)\n",
    "stats = bt.run()\n",
    "print(stats)\n"
   ]
  }
 ],
 "metadata": {
  "kernelspec": {
   "display_name": "Python 3.10.8 64-bit",
   "language": "python",
   "name": "python3"
  },
  "language_info": {
   "codemirror_mode": {
    "name": "ipython",
    "version": 3
   },
   "file_extension": ".py",
   "mimetype": "text/x-python",
   "name": "python",
   "nbconvert_exporter": "python",
   "pygments_lexer": "ipython3",
   "version": "3.12.5"
  },
  "vscode": {
   "interpreter": {
    "hash": "c0ff92a541b5eb8a0f75470c34280cf0dea79e8b819847822bd36e33345fddf3"
   }
  }
 },
 "nbformat": 4,
 "nbformat_minor": 2
}
